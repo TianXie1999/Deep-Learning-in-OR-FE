{
 "cells": [
  {
   "cell_type": "code",
   "execution_count": 1,
   "id": "4b3fb4db",
   "metadata": {
    "_cell_guid": "b1076dfc-b9ad-4769-8c92-a6c4dae69d19",
    "_uuid": "8f2839f25d086af736a60e9eeb907d3b93b6e0e5",
    "execution": {
     "iopub.execute_input": "2022-03-26T02:23:55.044786Z",
     "iopub.status.busy": "2022-03-26T02:23:55.043618Z",
     "iopub.status.idle": "2022-03-26T02:23:55.056061Z",
     "shell.execute_reply": "2022-03-26T02:23:55.056655Z",
     "shell.execute_reply.started": "2022-03-26T02:19:26.266556Z"
    },
    "papermill": {
     "duration": 0.058985,
     "end_time": "2022-03-26T02:23:55.056945",
     "exception": false,
     "start_time": "2022-03-26T02:23:54.997960",
     "status": "completed"
    },
    "tags": []
   },
   "outputs": [
    {
     "name": "stdout",
     "output_type": "stream",
     "text": [
      "/kaggle/input/new-york-city-taxi-fare-prediction/sample_submission.csv\n",
      "/kaggle/input/new-york-city-taxi-fare-prediction/GCP-Coupons-Instructions.rtf\n",
      "/kaggle/input/new-york-city-taxi-fare-prediction/train.csv\n",
      "/kaggle/input/new-york-city-taxi-fare-prediction/test.csv\n"
     ]
    }
   ],
   "source": [
    "# This Python 3 environment comes with many helpful analytics libraries installed\n",
    "# It is defined by the kaggle/python Docker image: https://github.com/kaggle/docker-python\n",
    "# For example, here's several helpful packages to load\n",
    "\n",
    "import numpy as np # linear algebra\n",
    "import pandas as pd # data processing, CSV file I/O (e.g. pd.read_csv)\n",
    "\n",
    "# Input data files are available in the read-only \"../input/\" directory\n",
    "# For example, running this (by clicking run or pressing Shift+Enter) will list all files under the input directory\n",
    "\n",
    "import os\n",
    "for dirname, _, filenames in os.walk('/kaggle/input'):\n",
    "    for filename in filenames:\n",
    "        print(os.path.join(dirname, filename))\n",
    "\n",
    "# You can write up to 20GB to the current directory (/kaggle/working/) that gets preserved as output when you create a version using \"Save & Run All\" \n",
    "# You can also write temporary files to /kaggle/temp/, but they won't be saved outside of the current session"
   ]
  },
  {
   "cell_type": "code",
   "execution_count": 2,
   "id": "08a6e575",
   "metadata": {
    "execution": {
     "iopub.execute_input": "2022-03-26T02:23:55.146058Z",
     "iopub.status.busy": "2022-03-26T02:23:55.145404Z",
     "iopub.status.idle": "2022-03-26T02:23:56.148814Z",
     "shell.execute_reply": "2022-03-26T02:23:56.148252Z",
     "shell.execute_reply.started": "2022-03-26T02:19:26.498804Z"
    },
    "papermill": {
     "duration": 1.048105,
     "end_time": "2022-03-26T02:23:56.148980",
     "exception": false,
     "start_time": "2022-03-26T02:23:55.100875",
     "status": "completed"
    },
    "tags": []
   },
   "outputs": [],
   "source": [
    "import numpy as np\n",
    "import pandas as pd\n",
    "import matplotlib.pyplot as plt\n",
    "\n",
    "import seaborn as sns\n",
    "%matplotlib inline"
   ]
  },
  {
   "cell_type": "markdown",
   "id": "1582cedd",
   "metadata": {
    "papermill": {
     "duration": 0.041857,
     "end_time": "2022-03-26T02:23:56.233592",
     "exception": false,
     "start_time": "2022-03-26T02:23:56.191735",
     "status": "completed"
    },
    "tags": []
   },
   "source": [
    "We are curious about the relationships between different leading indicators to the lagging indicator (Fare)\n",
    "\n",
    "We can only use train data to investigate the relationships\n",
    "\n",
    "### Exploratory Data Analysis"
   ]
  },
  {
   "cell_type": "code",
   "execution_count": 3,
   "id": "57f8272d",
   "metadata": {
    "execution": {
     "iopub.execute_input": "2022-03-26T02:23:56.321741Z",
     "iopub.status.busy": "2022-03-26T02:23:56.320772Z",
     "iopub.status.idle": "2022-03-26T02:23:59.875180Z",
     "shell.execute_reply": "2022-03-26T02:23:59.875706Z",
     "shell.execute_reply.started": "2022-03-26T02:19:26.879230Z"
    },
    "papermill": {
     "duration": 3.600228,
     "end_time": "2022-03-26T02:23:59.875876",
     "exception": false,
     "start_time": "2022-03-26T02:23:56.275648",
     "status": "completed"
    },
    "tags": []
   },
   "outputs": [
    {
     "data": {
      "text/html": [
       "<div>\n",
       "<style scoped>\n",
       "    .dataframe tbody tr th:only-of-type {\n",
       "        vertical-align: middle;\n",
       "    }\n",
       "\n",
       "    .dataframe tbody tr th {\n",
       "        vertical-align: top;\n",
       "    }\n",
       "\n",
       "    .dataframe thead th {\n",
       "        text-align: right;\n",
       "    }\n",
       "</style>\n",
       "<table border=\"1\" class=\"dataframe\">\n",
       "  <thead>\n",
       "    <tr style=\"text-align: right;\">\n",
       "      <th></th>\n",
       "      <th>key</th>\n",
       "      <th>fare_amount</th>\n",
       "      <th>pickup_datetime</th>\n",
       "      <th>pickup_longitude</th>\n",
       "      <th>pickup_latitude</th>\n",
       "      <th>dropoff_longitude</th>\n",
       "      <th>dropoff_latitude</th>\n",
       "      <th>passenger_count</th>\n",
       "    </tr>\n",
       "  </thead>\n",
       "  <tbody>\n",
       "    <tr>\n",
       "      <th>0</th>\n",
       "      <td>2009-06-15 17:26:21.0000001</td>\n",
       "      <td>4.5</td>\n",
       "      <td>2009-06-15 17:26:21 UTC</td>\n",
       "      <td>-73.844311</td>\n",
       "      <td>40.721319</td>\n",
       "      <td>-73.841610</td>\n",
       "      <td>40.712278</td>\n",
       "      <td>1</td>\n",
       "    </tr>\n",
       "    <tr>\n",
       "      <th>1</th>\n",
       "      <td>2010-01-05 16:52:16.0000002</td>\n",
       "      <td>16.9</td>\n",
       "      <td>2010-01-05 16:52:16 UTC</td>\n",
       "      <td>-74.016048</td>\n",
       "      <td>40.711303</td>\n",
       "      <td>-73.979268</td>\n",
       "      <td>40.782004</td>\n",
       "      <td>1</td>\n",
       "    </tr>\n",
       "    <tr>\n",
       "      <th>2</th>\n",
       "      <td>2011-08-18 00:35:00.00000049</td>\n",
       "      <td>5.7</td>\n",
       "      <td>2011-08-18 00:35:00 UTC</td>\n",
       "      <td>-73.982738</td>\n",
       "      <td>40.761270</td>\n",
       "      <td>-73.991242</td>\n",
       "      <td>40.750562</td>\n",
       "      <td>2</td>\n",
       "    </tr>\n",
       "    <tr>\n",
       "      <th>3</th>\n",
       "      <td>2012-04-21 04:30:42.0000001</td>\n",
       "      <td>7.7</td>\n",
       "      <td>2012-04-21 04:30:42 UTC</td>\n",
       "      <td>-73.987130</td>\n",
       "      <td>40.733143</td>\n",
       "      <td>-73.991567</td>\n",
       "      <td>40.758092</td>\n",
       "      <td>1</td>\n",
       "    </tr>\n",
       "    <tr>\n",
       "      <th>4</th>\n",
       "      <td>2010-03-09 07:51:00.000000135</td>\n",
       "      <td>5.3</td>\n",
       "      <td>2010-03-09 07:51:00 UTC</td>\n",
       "      <td>-73.968095</td>\n",
       "      <td>40.768008</td>\n",
       "      <td>-73.956655</td>\n",
       "      <td>40.783762</td>\n",
       "      <td>1</td>\n",
       "    </tr>\n",
       "  </tbody>\n",
       "</table>\n",
       "</div>"
      ],
      "text/plain": [
       "                             key  fare_amount          pickup_datetime  \\\n",
       "0    2009-06-15 17:26:21.0000001          4.5  2009-06-15 17:26:21 UTC   \n",
       "1    2010-01-05 16:52:16.0000002         16.9  2010-01-05 16:52:16 UTC   \n",
       "2   2011-08-18 00:35:00.00000049          5.7  2011-08-18 00:35:00 UTC   \n",
       "3    2012-04-21 04:30:42.0000001          7.7  2012-04-21 04:30:42 UTC   \n",
       "4  2010-03-09 07:51:00.000000135          5.3  2010-03-09 07:51:00 UTC   \n",
       "\n",
       "   pickup_longitude  pickup_latitude  dropoff_longitude  dropoff_latitude  \\\n",
       "0        -73.844311        40.721319         -73.841610         40.712278   \n",
       "1        -74.016048        40.711303         -73.979268         40.782004   \n",
       "2        -73.982738        40.761270         -73.991242         40.750562   \n",
       "3        -73.987130        40.733143         -73.991567         40.758092   \n",
       "4        -73.968095        40.768008         -73.956655         40.783762   \n",
       "\n",
       "   passenger_count  \n",
       "0                1  \n",
       "1                1  \n",
       "2                2  \n",
       "3                1  \n",
       "4                1  "
      ]
     },
     "execution_count": 3,
     "metadata": {},
     "output_type": "execute_result"
    }
   ],
   "source": [
    "train = pd.read_csv('/kaggle/input/new-york-city-taxi-fare-prediction/train.csv',nrows=1000000)\n",
    "train.head()"
   ]
  },
  {
   "cell_type": "code",
   "execution_count": 4,
   "id": "80bc08c6",
   "metadata": {
    "execution": {
     "iopub.execute_input": "2022-03-26T02:23:59.968062Z",
     "iopub.status.busy": "2022-03-26T02:23:59.967426Z",
     "iopub.status.idle": "2022-03-26T02:23:59.972267Z",
     "shell.execute_reply": "2022-03-26T02:23:59.972874Z",
     "shell.execute_reply.started": "2022-03-26T02:19:29.107236Z"
    },
    "papermill": {
     "duration": 0.052592,
     "end_time": "2022-03-26T02:23:59.973035",
     "exception": false,
     "start_time": "2022-03-26T02:23:59.920443",
     "status": "completed"
    },
    "tags": []
   },
   "outputs": [
    {
     "data": {
      "text/plain": [
       "(1000000, 8)"
      ]
     },
     "execution_count": 4,
     "metadata": {},
     "output_type": "execute_result"
    }
   ],
   "source": [
    "train.shape"
   ]
  },
  {
   "cell_type": "markdown",
   "id": "7e75a78e",
   "metadata": {
    "papermill": {
     "duration": 0.043167,
     "end_time": "2022-03-26T02:24:00.059887",
     "exception": false,
     "start_time": "2022-03-26T02:24:00.016720",
     "status": "completed"
    },
    "tags": []
   },
   "source": [
    "#### Data Cleaning\n",
    "\n",
    "1. data not make sense\n",
    "\n",
    "2. null values\n",
    "\n",
    "3. outliers"
   ]
  },
  {
   "cell_type": "code",
   "execution_count": 5,
   "id": "7d1d4222",
   "metadata": {
    "execution": {
     "iopub.execute_input": "2022-03-26T02:24:00.150293Z",
     "iopub.status.busy": "2022-03-26T02:24:00.149602Z",
     "iopub.status.idle": "2022-03-26T02:24:00.240975Z",
     "shell.execute_reply": "2022-03-26T02:24:00.240375Z",
     "shell.execute_reply.started": "2022-03-26T02:19:29.114846Z"
    },
    "papermill": {
     "duration": 0.137974,
     "end_time": "2022-03-26T02:24:00.241121",
     "exception": false,
     "start_time": "2022-03-26T02:24:00.103147",
     "status": "completed"
    },
    "tags": []
   },
   "outputs": [],
   "source": [
    "#fare amount should be larger than 0 \n",
    "train = train[(train['fare_amount'] >= 0)&(train['fare_amount'] <= 200)]"
   ]
  },
  {
   "cell_type": "code",
   "execution_count": 6,
   "id": "4c8044bb",
   "metadata": {
    "execution": {
     "iopub.execute_input": "2022-03-26T02:24:00.335880Z",
     "iopub.status.busy": "2022-03-26T02:24:00.330754Z",
     "iopub.status.idle": "2022-03-26T02:24:00.894099Z",
     "shell.execute_reply": "2022-03-26T02:24:00.893546Z",
     "shell.execute_reply.started": "2022-03-26T02:19:29.200973Z"
    },
    "papermill": {
     "duration": 0.609645,
     "end_time": "2022-03-26T02:24:00.894269",
     "exception": false,
     "start_time": "2022-03-26T02:24:00.284624",
     "status": "completed"
    },
    "tags": []
   },
   "outputs": [
    {
     "data": {
      "text/plain": [
       "key                  0\n",
       "fare_amount          0\n",
       "pickup_datetime      0\n",
       "pickup_longitude     0\n",
       "pickup_latitude      0\n",
       "dropoff_longitude    0\n",
       "dropoff_latitude     0\n",
       "passenger_count      0\n",
       "dtype: int64"
      ]
     },
     "execution_count": 6,
     "metadata": {},
     "output_type": "execute_result"
    }
   ],
   "source": [
    "#There should not be missing values\n",
    "#Here we can see there is not any missing value\n",
    "train.dropna(inplace=True)\n",
    "train.isna().sum()"
   ]
  },
  {
   "cell_type": "code",
   "execution_count": 7,
   "id": "ccc4f7c7",
   "metadata": {
    "execution": {
     "iopub.execute_input": "2022-03-26T02:24:01.010666Z",
     "iopub.status.busy": "2022-03-26T02:24:01.009976Z",
     "iopub.status.idle": "2022-03-26T02:24:01.242404Z",
     "shell.execute_reply": "2022-03-26T02:24:01.241784Z",
     "shell.execute_reply.started": "2022-03-26T02:19:29.779091Z"
    },
    "papermill": {
     "duration": 0.304646,
     "end_time": "2022-03-26T02:24:01.242555",
     "exception": false,
     "start_time": "2022-03-26T02:24:00.937909",
     "status": "completed"
    },
    "tags": []
   },
   "outputs": [
    {
     "data": {
      "text/html": [
       "<div>\n",
       "<style scoped>\n",
       "    .dataframe tbody tr th:only-of-type {\n",
       "        vertical-align: middle;\n",
       "    }\n",
       "\n",
       "    .dataframe tbody tr th {\n",
       "        vertical-align: top;\n",
       "    }\n",
       "\n",
       "    .dataframe thead th {\n",
       "        text-align: right;\n",
       "    }\n",
       "</style>\n",
       "<table border=\"1\" class=\"dataframe\">\n",
       "  <thead>\n",
       "    <tr style=\"text-align: right;\">\n",
       "      <th></th>\n",
       "      <th>fare_amount</th>\n",
       "      <th>pickup_longitude</th>\n",
       "      <th>pickup_latitude</th>\n",
       "      <th>dropoff_longitude</th>\n",
       "      <th>dropoff_latitude</th>\n",
       "      <th>passenger_count</th>\n",
       "    </tr>\n",
       "  </thead>\n",
       "  <tbody>\n",
       "    <tr>\n",
       "      <th>count</th>\n",
       "      <td>999914.000000</td>\n",
       "      <td>999914.000000</td>\n",
       "      <td>999914.000000</td>\n",
       "      <td>999914.000000</td>\n",
       "      <td>999914.000000</td>\n",
       "      <td>999914.000000</td>\n",
       "    </tr>\n",
       "    <tr>\n",
       "      <th>mean</th>\n",
       "      <td>11.338718</td>\n",
       "      <td>-72.527039</td>\n",
       "      <td>39.929222</td>\n",
       "      <td>-72.528423</td>\n",
       "      <td>39.920254</td>\n",
       "      <td>1.684949</td>\n",
       "    </tr>\n",
       "    <tr>\n",
       "      <th>std</th>\n",
       "      <td>9.673256</td>\n",
       "      <td>12.056922</td>\n",
       "      <td>7.625747</td>\n",
       "      <td>11.322829</td>\n",
       "      <td>8.200851</td>\n",
       "      <td>1.323922</td>\n",
       "    </tr>\n",
       "    <tr>\n",
       "      <th>min</th>\n",
       "      <td>0.000000</td>\n",
       "      <td>-3377.680935</td>\n",
       "      <td>-3116.285383</td>\n",
       "      <td>-3383.296608</td>\n",
       "      <td>-3114.338567</td>\n",
       "      <td>0.000000</td>\n",
       "    </tr>\n",
       "    <tr>\n",
       "      <th>25%</th>\n",
       "      <td>6.000000</td>\n",
       "      <td>-73.992060</td>\n",
       "      <td>40.734966</td>\n",
       "      <td>-73.991385</td>\n",
       "      <td>40.734047</td>\n",
       "      <td>1.000000</td>\n",
       "    </tr>\n",
       "    <tr>\n",
       "      <th>50%</th>\n",
       "      <td>8.500000</td>\n",
       "      <td>-73.981793</td>\n",
       "      <td>40.752695</td>\n",
       "      <td>-73.980136</td>\n",
       "      <td>40.753165</td>\n",
       "      <td>1.000000</td>\n",
       "    </tr>\n",
       "    <tr>\n",
       "      <th>75%</th>\n",
       "      <td>12.500000</td>\n",
       "      <td>-73.967097</td>\n",
       "      <td>40.767153</td>\n",
       "      <td>-73.963655</td>\n",
       "      <td>40.768127</td>\n",
       "      <td>2.000000</td>\n",
       "    </tr>\n",
       "    <tr>\n",
       "      <th>max</th>\n",
       "      <td>200.000000</td>\n",
       "      <td>2522.271325</td>\n",
       "      <td>2621.628430</td>\n",
       "      <td>45.581619</td>\n",
       "      <td>1651.553433</td>\n",
       "      <td>208.000000</td>\n",
       "    </tr>\n",
       "  </tbody>\n",
       "</table>\n",
       "</div>"
      ],
      "text/plain": [
       "         fare_amount  pickup_longitude  pickup_latitude  dropoff_longitude  \\\n",
       "count  999914.000000     999914.000000    999914.000000      999914.000000   \n",
       "mean       11.338718        -72.527039        39.929222         -72.528423   \n",
       "std         9.673256         12.056922         7.625747          11.322829   \n",
       "min         0.000000      -3377.680935     -3116.285383       -3383.296608   \n",
       "25%         6.000000        -73.992060        40.734966         -73.991385   \n",
       "50%         8.500000        -73.981793        40.752695         -73.980136   \n",
       "75%        12.500000        -73.967097        40.767153         -73.963655   \n",
       "max       200.000000       2522.271325      2621.628430          45.581619   \n",
       "\n",
       "       dropoff_latitude  passenger_count  \n",
       "count     999914.000000    999914.000000  \n",
       "mean          39.920254         1.684949  \n",
       "std            8.200851         1.323922  \n",
       "min        -3114.338567         0.000000  \n",
       "25%           40.734047         1.000000  \n",
       "50%           40.753165         1.000000  \n",
       "75%           40.768127         2.000000  \n",
       "max         1651.553433       208.000000  "
      ]
     },
     "execution_count": 7,
     "metadata": {},
     "output_type": "execute_result"
    }
   ],
   "source": [
    "#outliers\n",
    "#First get descriptive stats\n",
    "train.describe()"
   ]
  },
  {
   "cell_type": "markdown",
   "id": "92584cd9",
   "metadata": {
    "papermill": {
     "duration": 0.04394,
     "end_time": "2022-03-26T02:24:01.330388",
     "exception": false,
     "start_time": "2022-03-26T02:24:01.286448",
     "status": "completed"
    },
    "tags": []
   },
   "source": [
    "From here we can see pick_up_longitude and pickup_latitude actually have a small IQR. It is likely there are some wrong or outliers here. Let us visualize"
   ]
  },
  {
   "cell_type": "code",
   "execution_count": 8,
   "id": "9aa2c949",
   "metadata": {
    "execution": {
     "iopub.execute_input": "2022-03-26T02:24:01.425210Z",
     "iopub.status.busy": "2022-03-26T02:24:01.424503Z",
     "iopub.status.idle": "2022-03-26T02:24:01.811271Z",
     "shell.execute_reply": "2022-03-26T02:24:01.811918Z",
     "shell.execute_reply.started": "2022-03-26T02:19:30.032394Z"
    },
    "papermill": {
     "duration": 0.437759,
     "end_time": "2022-03-26T02:24:01.812096",
     "exception": false,
     "start_time": "2022-03-26T02:24:01.374337",
     "status": "completed"
    },
    "tags": []
   },
   "outputs": [],
   "source": [
    "train = train[(train['pickup_longitude'] < -72)&(train['pickup_longitude'] > -75)]\n",
    "train = train[(train['pickup_latitude'] < 44)&(train['pickup_latitude'] > 37)]\n",
    "train = train[(train['dropoff_longitude'] < -72)&(train['dropoff_longitude'] > -75)]\n",
    "train = train[(train['dropoff_latitude'] > 37) & (train['dropoff_latitude'] < 44)]\n",
    "train = train[(train['passenger_count'] < 10)&(train['passenger_count'] > 0)]"
   ]
  },
  {
   "cell_type": "code",
   "execution_count": 9,
   "id": "431b4228",
   "metadata": {
    "execution": {
     "iopub.execute_input": "2022-03-26T02:24:01.904387Z",
     "iopub.status.busy": "2022-03-26T02:24:01.903671Z",
     "iopub.status.idle": "2022-03-26T02:24:02.135987Z",
     "shell.execute_reply": "2022-03-26T02:24:02.135417Z",
     "shell.execute_reply.started": "2022-03-26T02:19:30.425519Z"
    },
    "papermill": {
     "duration": 0.279325,
     "end_time": "2022-03-26T02:24:02.136130",
     "exception": false,
     "start_time": "2022-03-26T02:24:01.856805",
     "status": "completed"
    },
    "tags": []
   },
   "outputs": [],
   "source": [
    "def finding_distance(df):\n",
    "    R = 6373.0\n",
    "    lat1 =np.asarray(np.radians(df['pickup_latitude']))\n",
    "    lon1 = np.asarray(np.radians(df['pickup_longitude']))\n",
    "    lat2 = np.asarray(np.radians(df['dropoff_latitude']))\n",
    "    lon2 = np.asarray(np.radians(df['dropoff_longitude']))\n",
    "\n",
    "    dlon = lon2 - lon1\n",
    "    dlat = lat2 - lat1\n",
    "    ls1=[] \n",
    "    a = np.sin(dlat/2)**2 + np.cos(lat1) * np.cos(lat2) * np.sin(dlon/ 2)**2\n",
    "    c = 2 * np.arctan2(np.sqrt(a), np.sqrt(1 - a))\n",
    "    distance = R * c\n",
    "\n",
    "    \n",
    "    df['Distance']=np.asarray(distance)*0.621\n",
    "\n",
    "finding_distance(train)\n",
    "train = train[train['Distance'] < 50]"
   ]
  },
  {
   "cell_type": "code",
   "execution_count": 10,
   "id": "b6dc91f1",
   "metadata": {
    "execution": {
     "iopub.execute_input": "2022-03-26T02:24:02.228795Z",
     "iopub.status.busy": "2022-03-26T02:24:02.228072Z",
     "iopub.status.idle": "2022-03-26T02:24:03.266648Z",
     "shell.execute_reply": "2022-03-26T02:24:03.266058Z",
     "shell.execute_reply.started": "2022-03-26T02:19:30.647238Z"
    },
    "papermill": {
     "duration": 1.087128,
     "end_time": "2022-03-26T02:24:03.266791",
     "exception": false,
     "start_time": "2022-03-26T02:24:02.179663",
     "status": "completed"
    },
    "tags": []
   },
   "outputs": [
    {
     "data": {
      "text/plain": [
       "<AxesSubplot:xlabel='dropoff_longitude', ylabel='Count'>"
      ]
     },
     "execution_count": 10,
     "metadata": {},
     "output_type": "execute_result"
    },
    {
     "data": {
      "image/png": "[encoded data removed]",
      "text/plain": [
       "<Figure size 432x288 with 1 Axes>"
      ]
     },
     "metadata": {
      "needs_background": "light"
     },
     "output_type": "display_data"
    }
   ],
   "source": [
    "#Distributution of drop off Longitude\n",
    "sns.histplot(train['dropoff_longitude'],binwidth = 0.5)"
   ]
  },
  {
   "cell_type": "code",
   "execution_count": 11,
   "id": "3c54c728",
   "metadata": {
    "execution": {
     "iopub.execute_input": "2022-03-26T02:24:03.360785Z",
     "iopub.status.busy": "2022-03-26T02:24:03.360142Z",
     "iopub.status.idle": "2022-03-26T02:24:04.358719Z",
     "shell.execute_reply": "2022-03-26T02:24:04.358218Z",
     "shell.execute_reply.started": "2022-03-26T02:19:31.675466Z"
    },
    "papermill": {
     "duration": 1.046916,
     "end_time": "2022-03-26T02:24:04.358876",
     "exception": false,
     "start_time": "2022-03-26T02:24:03.311960",
     "status": "completed"
    },
    "tags": []
   },
   "outputs": [
    {
     "data": {
      "text/plain": [
       "<AxesSubplot:xlabel='dropoff_latitude', ylabel='Count'>"
      ]
     },
     "execution_count": 11,
     "metadata": {},
     "output_type": "execute_result"
    },
    {
     "data": {
      "image/png": "[encoded data removed]",
      "text/plain": [
       "<Figure size 432x288 with 1 Axes>"
      ]
     },
     "metadata": {
      "needs_background": "light"
     },
     "output_type": "display_data"
    }
   ],
   "source": [
    "#Distributution of drop off Latitude\n",
    "sns.histplot(train['dropoff_latitude'],binwidth = 0.5)"
   ]
  },
  {
   "cell_type": "code",
   "execution_count": 12,
   "id": "70a3ea49",
   "metadata": {
    "execution": {
     "iopub.execute_input": "2022-03-26T02:24:04.455639Z",
     "iopub.status.busy": "2022-03-26T02:24:04.454950Z",
     "iopub.status.idle": "2022-03-26T02:24:05.465614Z",
     "shell.execute_reply": "2022-03-26T02:24:05.465080Z",
     "shell.execute_reply.started": "2022-03-26T02:19:32.689973Z"
    },
    "papermill": {
     "duration": 1.06097,
     "end_time": "2022-03-26T02:24:05.465749",
     "exception": false,
     "start_time": "2022-03-26T02:24:04.404779",
     "status": "completed"
    },
    "tags": []
   },
   "outputs": [
    {
     "data": {
      "text/plain": [
       "<AxesSubplot:xlabel='pickup_longitude', ylabel='Count'>"
      ]
     },
     "execution_count": 12,
     "metadata": {},
     "output_type": "execute_result"
    },
    {
     "data": {
      "image/png": "[encoded data removed]",
      "text/plain": [
       "<Figure size 432x288 with 1 Axes>"
      ]
     },
     "metadata": {
      "needs_background": "light"
     },
     "output_type": "display_data"
    }
   ],
   "source": [
    "#Distributution of Longitude\n",
    "sns.histplot(train['pickup_longitude'],binwidth = 0.5)"
   ]
  },
  {
   "cell_type": "code",
   "execution_count": 13,
   "id": "3817bc54",
   "metadata": {
    "execution": {
     "iopub.execute_input": "2022-03-26T02:24:05.563208Z",
     "iopub.status.busy": "2022-03-26T02:24:05.562571Z",
     "iopub.status.idle": "2022-03-26T02:24:06.595439Z",
     "shell.execute_reply": "2022-03-26T02:24:06.595914Z",
     "shell.execute_reply.started": "2022-03-26T02:19:33.698076Z"
    },
    "papermill": {
     "duration": 1.083203,
     "end_time": "2022-03-26T02:24:06.596096",
     "exception": false,
     "start_time": "2022-03-26T02:24:05.512893",
     "status": "completed"
    },
    "tags": []
   },
   "outputs": [
    {
     "data": {
      "text/plain": [
       "<AxesSubplot:xlabel='pickup_latitude', ylabel='Count'>"
      ]
     },
     "execution_count": 13,
     "metadata": {},
     "output_type": "execute_result"
    },
    {
     "data": {
      "image/png": "[encoded data removed]",
      "text/plain": [
       "<Figure size 432x288 with 1 Axes>"
      ]
     },
     "metadata": {
      "needs_background": "light"
     },
     "output_type": "display_data"
    }
   ],
   "source": [
    "#Distributution of Latitude\n",
    "sns.histplot(train['pickup_latitude'],binwidth = 0.5)\n"
   ]
  },
  {
   "cell_type": "code",
   "execution_count": null,
   "id": "201bd871",
   "metadata": {
    "papermill": {
     "duration": 0.049521,
     "end_time": "2022-03-26T02:24:06.694777",
     "exception": false,
     "start_time": "2022-03-26T02:24:06.645256",
     "status": "completed"
    },
    "tags": []
   },
   "outputs": [],
   "source": []
  },
  {
   "cell_type": "markdown",
   "id": "7af26f6c",
   "metadata": {
    "papermill": {
     "duration": 0.048416,
     "end_time": "2022-03-26T02:24:06.792075",
     "exception": false,
     "start_time": "2022-03-26T02:24:06.743659",
     "status": "completed"
    },
    "tags": []
   },
   "source": [
    "Get rid of the right part (These are outliers)"
   ]
  },
  {
   "cell_type": "code",
   "execution_count": 14,
   "id": "c4640aaf",
   "metadata": {
    "execution": {
     "iopub.execute_input": "2022-03-26T02:24:06.918002Z",
     "iopub.status.busy": "2022-03-26T02:24:06.917344Z",
     "iopub.status.idle": "2022-03-26T02:24:07.191214Z",
     "shell.execute_reply": "2022-03-26T02:24:07.190635Z",
     "shell.execute_reply.started": "2022-03-26T02:19:34.670293Z"
    },
    "papermill": {
     "duration": 0.350248,
     "end_time": "2022-03-26T02:24:07.191363",
     "exception": false,
     "start_time": "2022-03-26T02:24:06.841115",
     "status": "completed"
    },
    "tags": []
   },
   "outputs": [
    {
     "data": {
      "text/html": [
       "<div>\n",
       "<style scoped>\n",
       "    .dataframe tbody tr th:only-of-type {\n",
       "        vertical-align: middle;\n",
       "    }\n",
       "\n",
       "    .dataframe tbody tr th {\n",
       "        vertical-align: top;\n",
       "    }\n",
       "\n",
       "    .dataframe thead th {\n",
       "        text-align: right;\n",
       "    }\n",
       "</style>\n",
       "<table border=\"1\" class=\"dataframe\">\n",
       "  <thead>\n",
       "    <tr style=\"text-align: right;\">\n",
       "      <th></th>\n",
       "      <th>fare_amount</th>\n",
       "      <th>pickup_longitude</th>\n",
       "      <th>pickup_latitude</th>\n",
       "      <th>dropoff_longitude</th>\n",
       "      <th>dropoff_latitude</th>\n",
       "      <th>passenger_count</th>\n",
       "      <th>Distance</th>\n",
       "    </tr>\n",
       "  </thead>\n",
       "  <tbody>\n",
       "    <tr>\n",
       "      <th>count</th>\n",
       "      <td>975579.00</td>\n",
       "      <td>975579.00</td>\n",
       "      <td>975579.00</td>\n",
       "      <td>975579.00</td>\n",
       "      <td>975579.00</td>\n",
       "      <td>975579.00</td>\n",
       "      <td>975579.00</td>\n",
       "    </tr>\n",
       "    <tr>\n",
       "      <th>mean</th>\n",
       "      <td>11.33</td>\n",
       "      <td>-73.98</td>\n",
       "      <td>40.75</td>\n",
       "      <td>-73.97</td>\n",
       "      <td>40.75</td>\n",
       "      <td>1.69</td>\n",
       "      <td>2.06</td>\n",
       "    </tr>\n",
       "    <tr>\n",
       "      <th>std</th>\n",
       "      <td>9.61</td>\n",
       "      <td>0.04</td>\n",
       "      <td>0.03</td>\n",
       "      <td>0.04</td>\n",
       "      <td>0.03</td>\n",
       "      <td>1.31</td>\n",
       "      <td>2.23</td>\n",
       "    </tr>\n",
       "    <tr>\n",
       "      <th>min</th>\n",
       "      <td>0.00</td>\n",
       "      <td>-74.97</td>\n",
       "      <td>38.98</td>\n",
       "      <td>-74.98</td>\n",
       "      <td>38.96</td>\n",
       "      <td>1.00</td>\n",
       "      <td>0.00</td>\n",
       "    </tr>\n",
       "    <tr>\n",
       "      <th>25%</th>\n",
       "      <td>6.00</td>\n",
       "      <td>-73.99</td>\n",
       "      <td>40.74</td>\n",
       "      <td>-73.99</td>\n",
       "      <td>40.74</td>\n",
       "      <td>1.00</td>\n",
       "      <td>0.78</td>\n",
       "    </tr>\n",
       "    <tr>\n",
       "      <th>50%</th>\n",
       "      <td>8.50</td>\n",
       "      <td>-73.98</td>\n",
       "      <td>40.75</td>\n",
       "      <td>-73.98</td>\n",
       "      <td>40.75</td>\n",
       "      <td>1.00</td>\n",
       "      <td>1.34</td>\n",
       "    </tr>\n",
       "    <tr>\n",
       "      <th>75%</th>\n",
       "      <td>12.50</td>\n",
       "      <td>-73.97</td>\n",
       "      <td>40.77</td>\n",
       "      <td>-73.97</td>\n",
       "      <td>40.77</td>\n",
       "      <td>2.00</td>\n",
       "      <td>2.43</td>\n",
       "    </tr>\n",
       "    <tr>\n",
       "      <th>max</th>\n",
       "      <td>200.00</td>\n",
       "      <td>-72.19</td>\n",
       "      <td>42.16</td>\n",
       "      <td>-72.15</td>\n",
       "      <td>42.17</td>\n",
       "      <td>6.00</td>\n",
       "      <td>48.30</td>\n",
       "    </tr>\n",
       "  </tbody>\n",
       "</table>\n",
       "</div>"
      ],
      "text/plain": [
       "       fare_amount  pickup_longitude  pickup_latitude  dropoff_longitude  \\\n",
       "count    975579.00         975579.00        975579.00          975579.00   \n",
       "mean         11.33            -73.98            40.75             -73.97   \n",
       "std           9.61              0.04             0.03               0.04   \n",
       "min           0.00            -74.97            38.98             -74.98   \n",
       "25%           6.00            -73.99            40.74             -73.99   \n",
       "50%           8.50            -73.98            40.75             -73.98   \n",
       "75%          12.50            -73.97            40.77             -73.97   \n",
       "max         200.00            -72.19            42.16             -72.15   \n",
       "\n",
       "       dropoff_latitude  passenger_count   Distance  \n",
       "count         975579.00        975579.00  975579.00  \n",
       "mean              40.75             1.69       2.06  \n",
       "std                0.03             1.31       2.23  \n",
       "min               38.96             1.00       0.00  \n",
       "25%               40.74             1.00       0.78  \n",
       "50%               40.75             1.00       1.34  \n",
       "75%               40.77             2.00       2.43  \n",
       "max               42.17             6.00      48.30  "
      ]
     },
     "execution_count": 14,
     "metadata": {},
     "output_type": "execute_result"
    }
   ],
   "source": [
    "round(train.describe(),2)"
   ]
  },
  {
   "cell_type": "markdown",
   "id": "4d18b85e",
   "metadata": {
    "papermill": {
     "duration": 0.052258,
     "end_time": "2022-03-26T02:24:07.293721",
     "exception": false,
     "start_time": "2022-03-26T02:24:07.241463",
     "status": "completed"
    },
    "tags": []
   },
   "source": [
    "**From the decription statistics above**, everything looks clean now"
   ]
  },
  {
   "cell_type": "markdown",
   "id": "93e4d480",
   "metadata": {
    "papermill": {
     "duration": 0.049464,
     "end_time": "2022-03-26T02:24:07.393965",
     "exception": false,
     "start_time": "2022-03-26T02:24:07.344501",
     "status": "completed"
    },
    "tags": []
   },
   "source": [
    "#### Visualization of EDA\n"
   ]
  },
  {
   "cell_type": "markdown",
   "id": "7b771438",
   "metadata": {
    "papermill": {
     "duration": 0.048884,
     "end_time": "2022-03-26T02:24:07.492983",
     "exception": false,
     "start_time": "2022-03-26T02:24:07.444099",
     "status": "completed"
    },
    "tags": []
   },
   "source": [
    "#### Timing and Fare\n",
    "\n",
    "We think timing (different days in week, different months) may be a leading factor for different price"
   ]
  },
  {
   "cell_type": "markdown",
   "id": "2f706354",
   "metadata": {
    "papermill": {
     "duration": 0.048776,
     "end_time": "2022-03-26T02:24:07.590954",
     "exception": false,
     "start_time": "2022-03-26T02:24:07.542178",
     "status": "completed"
    },
    "tags": []
   },
   "source": [
    "Firstly, get different parts of times as new columns"
   ]
  },
  {
   "cell_type": "code",
   "execution_count": 15,
   "id": "414f9963",
   "metadata": {
    "execution": {
     "iopub.execute_input": "2022-03-26T02:24:07.698693Z",
     "iopub.status.busy": "2022-03-26T02:24:07.697908Z",
     "iopub.status.idle": "2022-03-26T02:26:26.991469Z",
     "shell.execute_reply": "2022-03-26T02:26:26.992011Z",
     "shell.execute_reply.started": "2022-03-26T02:19:34.966920Z"
    },
    "papermill": {
     "duration": 139.352006,
     "end_time": "2022-03-26T02:26:26.992224",
     "exception": false,
     "start_time": "2022-03-26T02:24:07.640218",
     "status": "completed"
    },
    "tags": []
   },
   "outputs": [],
   "source": [
    "train[\"date_parsed\"] = pd.to_datetime(train[\"pickup_datetime\"])\n",
    "\n",
    "train[\"Year\"] = train[\"date_parsed\"].dt.year\n",
    "\n",
    "train[\"Month\"] = train[\"date_parsed\"].dt.month\n",
    "\n",
    "train[\"Weekday\"] = train[\"date_parsed\"].dt.weekday\n",
    "\n",
    "train[\"hour\"] = train[\"date_parsed\"].dt.hour\n",
    "\n",
    "train = train.drop(columns = [\"key\",\"pickup_datetime\", \"date_parsed\"])"
   ]
  },
  {
   "cell_type": "markdown",
   "id": "dc7b9d9a",
   "metadata": {
    "papermill": {
     "duration": 0.051194,
     "end_time": "2022-03-26T02:26:27.093896",
     "exception": false,
     "start_time": "2022-03-26T02:26:27.042702",
     "status": "completed"
    },
    "tags": []
   },
   "source": [
    "**Note**, this would be the new data frame we use to research the relationship between timing and fare"
   ]
  },
  {
   "cell_type": "code",
   "execution_count": 16,
   "id": "e218c104",
   "metadata": {
    "execution": {
     "iopub.execute_input": "2022-03-26T02:26:27.196793Z",
     "iopub.status.busy": "2022-03-26T02:26:27.196106Z",
     "iopub.status.idle": "2022-03-26T02:26:27.209917Z",
     "shell.execute_reply": "2022-03-26T02:26:27.210377Z",
     "shell.execute_reply.started": "2022-03-26T02:21:55.208217Z"
    },
    "papermill": {
     "duration": 0.066884,
     "end_time": "2022-03-26T02:26:27.210563",
     "exception": false,
     "start_time": "2022-03-26T02:26:27.143679",
     "status": "completed"
    },
    "tags": []
   },
   "outputs": [
    {
     "data": {
      "text/html": [
       "<div>\n",
       "<style scoped>\n",
       "    .dataframe tbody tr th:only-of-type {\n",
       "        vertical-align: middle;\n",
       "    }\n",
       "\n",
       "    .dataframe tbody tr th {\n",
       "        vertical-align: top;\n",
       "    }\n",
       "\n",
       "    .dataframe thead th {\n",
       "        text-align: right;\n",
       "    }\n",
       "</style>\n",
       "<table border=\"1\" class=\"dataframe\">\n",
       "  <thead>\n",
       "    <tr style=\"text-align: right;\">\n",
       "      <th></th>\n",
       "      <th>fare_amount</th>\n",
       "      <th>pickup_longitude</th>\n",
       "      <th>pickup_latitude</th>\n",
       "      <th>dropoff_longitude</th>\n",
       "      <th>dropoff_latitude</th>\n",
       "      <th>passenger_count</th>\n",
       "      <th>Distance</th>\n",
       "      <th>Year</th>\n",
       "      <th>Month</th>\n",
       "      <th>Weekday</th>\n",
       "      <th>hour</th>\n",
       "    </tr>\n",
       "  </thead>\n",
       "  <tbody>\n",
       "    <tr>\n",
       "      <th>0</th>\n",
       "      <td>4.5</td>\n",
       "      <td>-73.844311</td>\n",
       "      <td>40.721319</td>\n",
       "      <td>-73.841610</td>\n",
       "      <td>40.712278</td>\n",
       "      <td>1</td>\n",
       "      <td>0.640305</td>\n",
       "      <td>2009</td>\n",
       "      <td>6</td>\n",
       "      <td>0</td>\n",
       "      <td>17</td>\n",
       "    </tr>\n",
       "    <tr>\n",
       "      <th>1</th>\n",
       "      <td>16.9</td>\n",
       "      <td>-74.016048</td>\n",
       "      <td>40.711303</td>\n",
       "      <td>-73.979268</td>\n",
       "      <td>40.782004</td>\n",
       "      <td>1</td>\n",
       "      <td>5.249180</td>\n",
       "      <td>2010</td>\n",
       "      <td>1</td>\n",
       "      <td>1</td>\n",
       "      <td>16</td>\n",
       "    </tr>\n",
       "    <tr>\n",
       "      <th>2</th>\n",
       "      <td>5.7</td>\n",
       "      <td>-73.982738</td>\n",
       "      <td>40.761270</td>\n",
       "      <td>-73.991242</td>\n",
       "      <td>40.750562</td>\n",
       "      <td>2</td>\n",
       "      <td>0.863166</td>\n",
       "      <td>2011</td>\n",
       "      <td>8</td>\n",
       "      <td>3</td>\n",
       "      <td>0</td>\n",
       "    </tr>\n",
       "    <tr>\n",
       "      <th>3</th>\n",
       "      <td>7.7</td>\n",
       "      <td>-73.987130</td>\n",
       "      <td>40.733143</td>\n",
       "      <td>-73.991567</td>\n",
       "      <td>40.758092</td>\n",
       "      <td>1</td>\n",
       "      <td>1.738893</td>\n",
       "      <td>2012</td>\n",
       "      <td>4</td>\n",
       "      <td>5</td>\n",
       "      <td>4</td>\n",
       "    </tr>\n",
       "    <tr>\n",
       "      <th>4</th>\n",
       "      <td>5.3</td>\n",
       "      <td>-73.968095</td>\n",
       "      <td>40.768008</td>\n",
       "      <td>-73.956655</td>\n",
       "      <td>40.783762</td>\n",
       "      <td>1</td>\n",
       "      <td>1.241866</td>\n",
       "      <td>2010</td>\n",
       "      <td>3</td>\n",
       "      <td>1</td>\n",
       "      <td>7</td>\n",
       "    </tr>\n",
       "  </tbody>\n",
       "</table>\n",
       "</div>"
      ],
      "text/plain": [
       "   fare_amount  pickup_longitude  pickup_latitude  dropoff_longitude  \\\n",
       "0          4.5        -73.844311        40.721319         -73.841610   \n",
       "1         16.9        -74.016048        40.711303         -73.979268   \n",
       "2          5.7        -73.982738        40.761270         -73.991242   \n",
       "3          7.7        -73.987130        40.733143         -73.991567   \n",
       "4          5.3        -73.968095        40.768008         -73.956655   \n",
       "\n",
       "   dropoff_latitude  passenger_count  Distance  Year  Month  Weekday  hour  \n",
       "0         40.712278                1  0.640305  2009      6        0    17  \n",
       "1         40.782004                1  5.249180  2010      1        1    16  \n",
       "2         40.750562                2  0.863166  2011      8        3     0  \n",
       "3         40.758092                1  1.738893  2012      4        5     4  \n",
       "4         40.783762                1  1.241866  2010      3        1     7  "
      ]
     },
     "execution_count": 16,
     "metadata": {},
     "output_type": "execute_result"
    }
   ],
   "source": [
    "train.head()"
   ]
  },
  {
   "cell_type": "code",
   "execution_count": 17,
   "id": "68de17a6",
   "metadata": {
    "execution": {
     "iopub.execute_input": "2022-03-26T02:26:27.317227Z",
     "iopub.status.busy": "2022-03-26T02:26:27.316551Z",
     "iopub.status.idle": "2022-03-26T02:26:28.075520Z",
     "shell.execute_reply": "2022-03-26T02:26:28.076016Z",
     "shell.execute_reply.started": "2022-03-26T02:21:55.225197Z"
    },
    "papermill": {
     "duration": 0.815733,
     "end_time": "2022-03-26T02:26:28.076209",
     "exception": false,
     "start_time": "2022-03-26T02:26:27.260476",
     "status": "completed"
    },
    "tags": []
   },
   "outputs": [
    {
     "data": {
      "text/plain": [
       "Text(0, 0.5, 'Fare distribution')"
      ]
     },
     "execution_count": 17,
     "metadata": {},
     "output_type": "execute_result"
    },
    {
     "data": {
      "image/png": "[encoded data removed]",
      "text/plain": [
       "<Figure size 1080x504 with 1 Axes>"
      ]
     },
     "metadata": {
      "needs_background": "light"
     },
     "output_type": "display_data"
    }
   ],
   "source": [
    "plt.figure(figsize=(15,7))\n",
    "sns.boxplot(x = train[\"Weekday\"], y = train[\"fare_amount\"])\n",
    "plt.xlabel('Weekday')\n",
    "plt.ylabel('Fare distribution')"
   ]
  },
  {
   "cell_type": "markdown",
   "id": "a439b5b4",
   "metadata": {
    "papermill": {
     "duration": 0.052681,
     "end_time": "2022-03-26T02:26:28.182932",
     "exception": false,
     "start_time": "2022-03-26T02:26:28.130251",
     "status": "completed"
    },
    "tags": []
   },
   "source": [
    "**Surprisingly**, from the plot, weekday seems not to influence the fare amount significantly"
   ]
  },
  {
   "cell_type": "code",
   "execution_count": 18,
   "id": "14b98d79",
   "metadata": {
    "execution": {
     "iopub.execute_input": "2022-03-26T02:26:28.289815Z",
     "iopub.status.busy": "2022-03-26T02:26:28.289139Z",
     "iopub.status.idle": "2022-03-26T02:26:29.166021Z",
     "shell.execute_reply": "2022-03-26T02:26:29.165087Z",
     "shell.execute_reply.started": "2022-03-26T02:21:55.924500Z"
    },
    "papermill": {
     "duration": 0.931905,
     "end_time": "2022-03-26T02:26:29.166349",
     "exception": false,
     "start_time": "2022-03-26T02:26:28.234444",
     "status": "completed"
    },
    "tags": []
   },
   "outputs": [
    {
     "data": {
      "text/plain": [
       "Text(0, 0.5, 'Fare distribution')"
      ]
     },
     "execution_count": 18,
     "metadata": {},
     "output_type": "execute_result"
    },
    {
     "data": {
      "image/png": "[encoded data removed]",
      "text/plain": [
       "<Figure size 1080x504 with 1 Axes>"
      ]
     },
     "metadata": {
      "needs_background": "light"
     },
     "output_type": "display_data"
    }
   ],
   "source": [
    "#Visualize the relationship between month and fare\n",
    "plt.figure(figsize=(15,7))\n",
    "sns.boxplot(x = train[\"Month\"], y = train[\"fare_amount\"])\n",
    "plt.xlabel('Month')\n",
    "plt.ylabel('Fare distribution')"
   ]
  },
  {
   "cell_type": "markdown",
   "id": "173c2eea",
   "metadata": {
    "papermill": {
     "duration": 0.06152,
     "end_time": "2022-03-26T02:26:29.289718",
     "exception": false,
     "start_time": "2022-03-26T02:26:29.228198",
     "status": "completed"
    },
    "tags": []
   },
   "source": [
    "The influence is also not significant!"
   ]
  },
  {
   "cell_type": "code",
   "execution_count": 19,
   "id": "4a877f2a",
   "metadata": {
    "execution": {
     "iopub.execute_input": "2022-03-26T02:26:29.410968Z",
     "iopub.status.busy": "2022-03-26T02:26:29.410194Z",
     "iopub.status.idle": "2022-03-26T02:26:30.574337Z",
     "shell.execute_reply": "2022-03-26T02:26:30.574865Z",
     "shell.execute_reply.started": "2022-03-26T02:21:56.690044Z"
    },
    "papermill": {
     "duration": 1.226365,
     "end_time": "2022-03-26T02:26:30.575030",
     "exception": false,
     "start_time": "2022-03-26T02:26:29.348665",
     "status": "completed"
    },
    "tags": []
   },
   "outputs": [
    {
     "data": {
      "text/plain": [
       "Text(0, 0.5, 'Fare distribution')"
      ]
     },
     "execution_count": 19,
     "metadata": {},
     "output_type": "execute_result"
    },
    {
     "data": {
      "image/png": "[encoded data removed]",
      "text/plain": [
       "<Figure size 1080x504 with 1 Axes>"
      ]
     },
     "metadata": {
      "needs_background": "light"
     },
     "output_type": "display_data"
    }
   ],
   "source": [
    "#Visualize the relationship between hour and fare\n",
    "plt.figure(figsize=(15,7))\n",
    "sns.boxplot(x = train[\"hour\"], y = train[\"fare_amount\"])\n",
    "plt.xlabel('Hour')\n",
    "plt.ylabel('Fare distribution')"
   ]
  },
  {
   "cell_type": "markdown",
   "id": "1ae6abd5",
   "metadata": {
    "papermill": {
     "duration": 0.05544,
     "end_time": "2022-03-26T02:26:30.686063",
     "exception": false,
     "start_time": "2022-03-26T02:26:30.630623",
     "status": "completed"
    },
    "tags": []
   },
   "source": [
    "This suggests some relationship. The boxplot suggests 4-5am have a relatively high overall fare amount. Why does this happen? we can see the frequency of the observations"
   ]
  },
  {
   "cell_type": "code",
   "execution_count": 20,
   "id": "35570b1b",
   "metadata": {
    "execution": {
     "iopub.execute_input": "2022-03-26T02:26:30.801561Z",
     "iopub.status.busy": "2022-03-26T02:26:30.800501Z",
     "iopub.status.idle": "2022-03-26T02:26:31.211643Z",
     "shell.execute_reply": "2022-03-26T02:26:31.211040Z",
     "shell.execute_reply.started": "2022-03-26T02:21:57.680909Z"
    },
    "papermill": {
     "duration": 0.470128,
     "end_time": "2022-03-26T02:26:31.211786",
     "exception": false,
     "start_time": "2022-03-26T02:26:30.741658",
     "status": "completed"
    },
    "tags": []
   },
   "outputs": [
    {
     "name": "stderr",
     "output_type": "stream",
     "text": [
      "/opt/conda/lib/python3.7/site-packages/seaborn/_decorators.py:43: FutureWarning: Pass the following variable as a keyword arg: x. From version 0.12, the only valid positional argument will be `data`, and passing other arguments without an explicit keyword will result in an error or misinterpretation.\n",
      "  FutureWarning\n"
     ]
    },
    {
     "data": {
      "text/plain": [
       "<AxesSubplot:xlabel='hour', ylabel='count'>"
      ]
     },
     "execution_count": 20,
     "metadata": {},
     "output_type": "execute_result"
    },
    {
     "data": {
      "image/png": "[encoded data removed]",
      "text/plain": [
       "<Figure size 1080x504 with 1 Axes>"
      ]
     },
     "metadata": {
      "needs_background": "light"
     },
     "output_type": "display_data"
    }
   ],
   "source": [
    "#Visualize the density of hour\n",
    "plt.figure(figsize=(15,7))\n",
    "sns.countplot(train[\"hour\"])"
   ]
  },
  {
   "cell_type": "code",
   "execution_count": 21,
   "id": "e2e92516",
   "metadata": {
    "execution": {
     "iopub.execute_input": "2022-03-26T02:26:31.329040Z",
     "iopub.status.busy": "2022-03-26T02:26:31.328406Z",
     "iopub.status.idle": "2022-03-26T02:26:31.343573Z",
     "shell.execute_reply": "2022-03-26T02:26:31.343012Z",
     "shell.execute_reply.started": "2022-03-26T02:21:58.081697Z"
    },
    "papermill": {
     "duration": 0.074765,
     "end_time": "2022-03-26T02:26:31.343720",
     "exception": false,
     "start_time": "2022-03-26T02:26:31.268955",
     "status": "completed"
    },
    "tags": []
   },
   "outputs": [
    {
     "data": {
      "text/html": [
       "<div>\n",
       "<style scoped>\n",
       "    .dataframe tbody tr th:only-of-type {\n",
       "        vertical-align: middle;\n",
       "    }\n",
       "\n",
       "    .dataframe tbody tr th {\n",
       "        vertical-align: top;\n",
       "    }\n",
       "\n",
       "    .dataframe thead th {\n",
       "        text-align: right;\n",
       "    }\n",
       "</style>\n",
       "<table border=\"1\" class=\"dataframe\">\n",
       "  <thead>\n",
       "    <tr style=\"text-align: right;\">\n",
       "      <th></th>\n",
       "      <th>fare_amount</th>\n",
       "      <th>pickup_longitude</th>\n",
       "      <th>pickup_latitude</th>\n",
       "      <th>dropoff_longitude</th>\n",
       "      <th>dropoff_latitude</th>\n",
       "      <th>passenger_count</th>\n",
       "      <th>Distance</th>\n",
       "      <th>Year</th>\n",
       "      <th>Month</th>\n",
       "      <th>Weekday</th>\n",
       "      <th>hour</th>\n",
       "    </tr>\n",
       "  </thead>\n",
       "  <tbody>\n",
       "    <tr>\n",
       "      <th>0</th>\n",
       "      <td>4.5</td>\n",
       "      <td>-73.844311</td>\n",
       "      <td>40.721319</td>\n",
       "      <td>-73.841610</td>\n",
       "      <td>40.712278</td>\n",
       "      <td>1</td>\n",
       "      <td>0.640305</td>\n",
       "      <td>2009</td>\n",
       "      <td>6</td>\n",
       "      <td>0</td>\n",
       "      <td>17</td>\n",
       "    </tr>\n",
       "    <tr>\n",
       "      <th>1</th>\n",
       "      <td>16.9</td>\n",
       "      <td>-74.016048</td>\n",
       "      <td>40.711303</td>\n",
       "      <td>-73.979268</td>\n",
       "      <td>40.782004</td>\n",
       "      <td>1</td>\n",
       "      <td>5.249180</td>\n",
       "      <td>2010</td>\n",
       "      <td>1</td>\n",
       "      <td>1</td>\n",
       "      <td>16</td>\n",
       "    </tr>\n",
       "    <tr>\n",
       "      <th>2</th>\n",
       "      <td>5.7</td>\n",
       "      <td>-73.982738</td>\n",
       "      <td>40.761270</td>\n",
       "      <td>-73.991242</td>\n",
       "      <td>40.750562</td>\n",
       "      <td>2</td>\n",
       "      <td>0.863166</td>\n",
       "      <td>2011</td>\n",
       "      <td>8</td>\n",
       "      <td>3</td>\n",
       "      <td>0</td>\n",
       "    </tr>\n",
       "    <tr>\n",
       "      <th>3</th>\n",
       "      <td>7.7</td>\n",
       "      <td>-73.987130</td>\n",
       "      <td>40.733143</td>\n",
       "      <td>-73.991567</td>\n",
       "      <td>40.758092</td>\n",
       "      <td>1</td>\n",
       "      <td>1.738893</td>\n",
       "      <td>2012</td>\n",
       "      <td>4</td>\n",
       "      <td>5</td>\n",
       "      <td>4</td>\n",
       "    </tr>\n",
       "    <tr>\n",
       "      <th>4</th>\n",
       "      <td>5.3</td>\n",
       "      <td>-73.968095</td>\n",
       "      <td>40.768008</td>\n",
       "      <td>-73.956655</td>\n",
       "      <td>40.783762</td>\n",
       "      <td>1</td>\n",
       "      <td>1.241866</td>\n",
       "      <td>2010</td>\n",
       "      <td>3</td>\n",
       "      <td>1</td>\n",
       "      <td>7</td>\n",
       "    </tr>\n",
       "  </tbody>\n",
       "</table>\n",
       "</div>"
      ],
      "text/plain": [
       "   fare_amount  pickup_longitude  pickup_latitude  dropoff_longitude  \\\n",
       "0          4.5        -73.844311        40.721319         -73.841610   \n",
       "1         16.9        -74.016048        40.711303         -73.979268   \n",
       "2          5.7        -73.982738        40.761270         -73.991242   \n",
       "3          7.7        -73.987130        40.733143         -73.991567   \n",
       "4          5.3        -73.968095        40.768008         -73.956655   \n",
       "\n",
       "   dropoff_latitude  passenger_count  Distance  Year  Month  Weekday  hour  \n",
       "0         40.712278                1  0.640305  2009      6        0    17  \n",
       "1         40.782004                1  5.249180  2010      1        1    16  \n",
       "2         40.750562                2  0.863166  2011      8        3     0  \n",
       "3         40.758092                1  1.738893  2012      4        5     4  \n",
       "4         40.783762                1  1.241866  2010      3        1     7  "
      ]
     },
     "execution_count": 21,
     "metadata": {},
     "output_type": "execute_result"
    }
   ],
   "source": [
    "train.head()"
   ]
  },
  {
   "cell_type": "code",
   "execution_count": null,
   "id": "8a4f7a33",
   "metadata": {
    "papermill": {
     "duration": 0.056924,
     "end_time": "2022-03-26T02:26:31.457934",
     "exception": false,
     "start_time": "2022-03-26T02:26:31.401010",
     "status": "completed"
    },
    "tags": []
   },
   "outputs": [],
   "source": []
  },
  {
   "cell_type": "code",
   "execution_count": 22,
   "id": "37a32efe",
   "metadata": {
    "execution": {
     "iopub.execute_input": "2022-03-26T02:26:31.605425Z",
     "iopub.status.busy": "2022-03-26T02:26:31.604729Z",
     "iopub.status.idle": "2022-03-26T02:26:32.457735Z",
     "shell.execute_reply": "2022-03-26T02:26:32.457089Z",
     "shell.execute_reply.started": "2022-03-26T02:21:58.100674Z"
    },
    "papermill": {
     "duration": 0.942554,
     "end_time": "2022-03-26T02:26:32.457878",
     "exception": false,
     "start_time": "2022-03-26T02:26:31.515324",
     "status": "completed"
    },
    "tags": []
   },
   "outputs": [
    {
     "data": {
      "text/plain": [
       "<AxesSubplot:xlabel='passenger_count', ylabel='Count'>"
      ]
     },
     "execution_count": 22,
     "metadata": {},
     "output_type": "execute_result"
    },
    {
     "data": {
      "image/png": "[encoded data removed]",
      "text/plain": [
       "<Figure size 432x288 with 1 Axes>"
      ]
     },
     "metadata": {
      "needs_background": "light"
     },
     "output_type": "display_data"
    }
   ],
   "source": [
    "sns.histplot(train['passenger_count'],binwidth = 1)\n"
   ]
  },
  {
   "cell_type": "code",
   "execution_count": null,
   "id": "c449866e",
   "metadata": {
    "papermill": {
     "duration": 0.060729,
     "end_time": "2022-03-26T02:26:32.577212",
     "exception": false,
     "start_time": "2022-03-26T02:26:32.516483",
     "status": "completed"
    },
    "tags": []
   },
   "outputs": [],
   "source": []
  },
  {
   "cell_type": "code",
   "execution_count": 23,
   "id": "51b3fbd4",
   "metadata": {
    "execution": {
     "iopub.execute_input": "2022-03-26T02:26:32.706979Z",
     "iopub.status.busy": "2022-03-26T02:26:32.706295Z",
     "iopub.status.idle": "2022-03-26T02:26:33.819931Z",
     "shell.execute_reply": "2022-03-26T02:26:33.819355Z",
     "shell.execute_reply.started": "2022-03-26T02:21:58.980656Z"
    },
    "papermill": {
     "duration": 1.178741,
     "end_time": "2022-03-26T02:26:33.820081",
     "exception": false,
     "start_time": "2022-03-26T02:26:32.641340",
     "status": "completed"
    },
    "tags": []
   },
   "outputs": [
    {
     "data": {
      "text/plain": [
       "<AxesSubplot:xlabel='Distance', ylabel='Count'>"
      ]
     },
     "execution_count": 23,
     "metadata": {},
     "output_type": "execute_result"
    },
    {
     "data": {
      "image/png": "[encoded data removed]",
      "text/plain": [
       "<Figure size 432x288 with 1 Axes>"
      ]
     },
     "metadata": {
      "needs_background": "light"
     },
     "output_type": "display_data"
    }
   ],
   "source": [
    "sns.histplot(train['Distance'],binwidth = 1)"
   ]
  },
  {
   "cell_type": "code",
   "execution_count": 24,
   "id": "8f8e0ee2",
   "metadata": {
    "execution": {
     "iopub.execute_input": "2022-03-26T02:26:33.943494Z",
     "iopub.status.busy": "2022-03-26T02:26:33.942774Z",
     "iopub.status.idle": "2022-03-26T02:26:34.653903Z",
     "shell.execute_reply": "2022-03-26T02:26:34.654441Z",
     "shell.execute_reply.started": "2022-03-26T02:22:00.061748Z"
    },
    "papermill": {
     "duration": 0.774681,
     "end_time": "2022-03-26T02:26:34.654618",
     "exception": false,
     "start_time": "2022-03-26T02:26:33.879937",
     "status": "completed"
    },
    "tags": []
   },
   "outputs": [
    {
     "data": {
      "text/plain": [
       "Text(0, 0.5, 'Fare distribution')"
      ]
     },
     "execution_count": 24,
     "metadata": {},
     "output_type": "execute_result"
    },
    {
     "data": {
      "image/png": "[encoded data removed]",
      "text/plain": [
       "<Figure size 1080x504 with 1 Axes>"
      ]
     },
     "metadata": {
      "needs_background": "light"
     },
     "output_type": "display_data"
    }
   ],
   "source": [
    "plt.figure(figsize=(15,7))\n",
    "sns.boxplot(x = train[\"passenger_count\"], y = train[\"fare_amount\"])\n",
    "plt.xlabel('passenger_count')\n",
    "plt.ylabel('Fare distribution')"
   ]
  },
  {
   "cell_type": "code",
   "execution_count": 25,
   "id": "b9382900",
   "metadata": {
    "execution": {
     "iopub.execute_input": "2022-03-26T02:26:34.782567Z",
     "iopub.status.busy": "2022-03-26T02:26:34.780475Z",
     "iopub.status.idle": "2022-03-26T02:26:35.088030Z",
     "shell.execute_reply": "2022-03-26T02:26:35.087487Z",
     "shell.execute_reply.started": "2022-03-26T02:22:00.749794Z"
    },
    "papermill": {
     "duration": 0.371498,
     "end_time": "2022-03-26T02:26:35.088194",
     "exception": false,
     "start_time": "2022-03-26T02:26:34.716696",
     "status": "completed"
    },
    "tags": []
   },
   "outputs": [
    {
     "name": "stderr",
     "output_type": "stream",
     "text": [
      "/opt/conda/lib/python3.7/site-packages/seaborn/_decorators.py:43: FutureWarning: Pass the following variable as a keyword arg: x. From version 0.12, the only valid positional argument will be `data`, and passing other arguments without an explicit keyword will result in an error or misinterpretation.\n",
      "  FutureWarning\n"
     ]
    },
    {
     "data": {
      "text/plain": [
       "<AxesSubplot:xlabel='passenger_count', ylabel='count'>"
      ]
     },
     "execution_count": 25,
     "metadata": {},
     "output_type": "execute_result"
    },
    {
     "data": {
      "image/png": "[encoded data removed]",
      "text/plain": [
       "<Figure size 576x432 with 1 Axes>"
      ]
     },
     "metadata": {
      "needs_background": "light"
     },
     "output_type": "display_data"
    }
   ],
   "source": [
    "plt.figure(figsize=(8,6))\n",
    "sns.countplot(train[\"passenger_count\"])"
   ]
  },
  {
   "cell_type": "code",
   "execution_count": 26,
   "id": "b56a0185",
   "metadata": {
    "execution": {
     "iopub.execute_input": "2022-03-26T02:26:35.218400Z",
     "iopub.status.busy": "2022-03-26T02:26:35.217697Z",
     "iopub.status.idle": "2022-03-26T02:26:35.218986Z",
     "shell.execute_reply": "2022-03-26T02:26:35.219577Z",
     "shell.execute_reply.started": "2022-03-26T02:22:00.998280Z"
    },
    "papermill": {
     "duration": 0.068802,
     "end_time": "2022-03-26T02:26:35.219738",
     "exception": false,
     "start_time": "2022-03-26T02:26:35.150936",
     "status": "completed"
    },
    "tags": []
   },
   "outputs": [],
   "source": [
    "train_df=train\n"
   ]
  },
  {
   "cell_type": "code",
   "execution_count": 27,
   "id": "292aebf2",
   "metadata": {
    "execution": {
     "iopub.execute_input": "2022-03-26T02:26:35.350697Z",
     "iopub.status.busy": "2022-03-26T02:26:35.350021Z",
     "iopub.status.idle": "2022-03-26T02:26:35.361499Z",
     "shell.execute_reply": "2022-03-26T02:26:35.361968Z",
     "shell.execute_reply.started": "2022-03-26T02:22:01.005797Z"
    },
    "papermill": {
     "duration": 0.079534,
     "end_time": "2022-03-26T02:26:35.362145",
     "exception": false,
     "start_time": "2022-03-26T02:26:35.282611",
     "status": "completed"
    },
    "tags": []
   },
   "outputs": [
    {
     "data": {
      "text/html": [
       "<div>\n",
       "<style scoped>\n",
       "    .dataframe tbody tr th:only-of-type {\n",
       "        vertical-align: middle;\n",
       "    }\n",
       "\n",
       "    .dataframe tbody tr th {\n",
       "        vertical-align: top;\n",
       "    }\n",
       "\n",
       "    .dataframe thead th {\n",
       "        text-align: right;\n",
       "    }\n",
       "</style>\n",
       "<table border=\"1\" class=\"dataframe\">\n",
       "  <thead>\n",
       "    <tr style=\"text-align: right;\">\n",
       "      <th></th>\n",
       "      <th>fare_amount</th>\n",
       "      <th>pickup_longitude</th>\n",
       "      <th>pickup_latitude</th>\n",
       "      <th>dropoff_longitude</th>\n",
       "      <th>dropoff_latitude</th>\n",
       "      <th>passenger_count</th>\n",
       "      <th>Distance</th>\n",
       "      <th>Year</th>\n",
       "      <th>Month</th>\n",
       "      <th>Weekday</th>\n",
       "      <th>hour</th>\n",
       "    </tr>\n",
       "  </thead>\n",
       "  <tbody>\n",
       "    <tr>\n",
       "      <th>0</th>\n",
       "      <td>4.5</td>\n",
       "      <td>-73.844311</td>\n",
       "      <td>40.721319</td>\n",
       "      <td>-73.841610</td>\n",
       "      <td>40.712278</td>\n",
       "      <td>1</td>\n",
       "      <td>0.640305</td>\n",
       "      <td>2009</td>\n",
       "      <td>6</td>\n",
       "      <td>0</td>\n",
       "      <td>17</td>\n",
       "    </tr>\n",
       "    <tr>\n",
       "      <th>1</th>\n",
       "      <td>16.9</td>\n",
       "      <td>-74.016048</td>\n",
       "      <td>40.711303</td>\n",
       "      <td>-73.979268</td>\n",
       "      <td>40.782004</td>\n",
       "      <td>1</td>\n",
       "      <td>5.249180</td>\n",
       "      <td>2010</td>\n",
       "      <td>1</td>\n",
       "      <td>1</td>\n",
       "      <td>16</td>\n",
       "    </tr>\n",
       "    <tr>\n",
       "      <th>2</th>\n",
       "      <td>5.7</td>\n",
       "      <td>-73.982738</td>\n",
       "      <td>40.761270</td>\n",
       "      <td>-73.991242</td>\n",
       "      <td>40.750562</td>\n",
       "      <td>2</td>\n",
       "      <td>0.863166</td>\n",
       "      <td>2011</td>\n",
       "      <td>8</td>\n",
       "      <td>3</td>\n",
       "      <td>0</td>\n",
       "    </tr>\n",
       "    <tr>\n",
       "      <th>3</th>\n",
       "      <td>7.7</td>\n",
       "      <td>-73.987130</td>\n",
       "      <td>40.733143</td>\n",
       "      <td>-73.991567</td>\n",
       "      <td>40.758092</td>\n",
       "      <td>1</td>\n",
       "      <td>1.738893</td>\n",
       "      <td>2012</td>\n",
       "      <td>4</td>\n",
       "      <td>5</td>\n",
       "      <td>4</td>\n",
       "    </tr>\n",
       "    <tr>\n",
       "      <th>4</th>\n",
       "      <td>5.3</td>\n",
       "      <td>-73.968095</td>\n",
       "      <td>40.768008</td>\n",
       "      <td>-73.956655</td>\n",
       "      <td>40.783762</td>\n",
       "      <td>1</td>\n",
       "      <td>1.241866</td>\n",
       "      <td>2010</td>\n",
       "      <td>3</td>\n",
       "      <td>1</td>\n",
       "      <td>7</td>\n",
       "    </tr>\n",
       "  </tbody>\n",
       "</table>\n",
       "</div>"
      ],
      "text/plain": [
       "   fare_amount  pickup_longitude  pickup_latitude  dropoff_longitude  \\\n",
       "0          4.5        -73.844311        40.721319         -73.841610   \n",
       "1         16.9        -74.016048        40.711303         -73.979268   \n",
       "2          5.7        -73.982738        40.761270         -73.991242   \n",
       "3          7.7        -73.987130        40.733143         -73.991567   \n",
       "4          5.3        -73.968095        40.768008         -73.956655   \n",
       "\n",
       "   dropoff_latitude  passenger_count  Distance  Year  Month  Weekday  hour  \n",
       "0         40.712278                1  0.640305  2009      6        0    17  \n",
       "1         40.782004                1  5.249180  2010      1        1    16  \n",
       "2         40.750562                2  0.863166  2011      8        3     0  \n",
       "3         40.758092                1  1.738893  2012      4        5     4  \n",
       "4         40.783762                1  1.241866  2010      3        1     7  "
      ]
     },
     "execution_count": 27,
     "metadata": {},
     "output_type": "execute_result"
    }
   ],
   "source": [
    "train_df.head()"
   ]
  },
  {
   "cell_type": "code",
   "execution_count": 28,
   "id": "af31bea8",
   "metadata": {
    "execution": {
     "iopub.execute_input": "2022-03-26T02:26:35.493982Z",
     "iopub.status.busy": "2022-03-26T02:26:35.493346Z",
     "iopub.status.idle": "2022-03-26T02:26:36.002833Z",
     "shell.execute_reply": "2022-03-26T02:26:36.002252Z",
     "shell.execute_reply.started": "2022-03-26T02:22:01.028797Z"
    },
    "papermill": {
     "duration": 0.576425,
     "end_time": "2022-03-26T02:26:36.002969",
     "exception": false,
     "start_time": "2022-03-26T02:26:35.426544",
     "status": "completed"
    },
    "tags": []
   },
   "outputs": [
    {
     "data": {
      "text/plain": [
       "3.497221895654657"
      ]
     },
     "execution_count": 28,
     "metadata": {},
     "output_type": "execute_result"
    }
   ],
   "source": [
    "\n",
    "from sklearn.linear_model import LinearRegression\n",
    "# lr=LinearRegression(normalize=True)\n",
    "lr=LinearRegression()\n",
    "from sklearn.model_selection import train_test_split\n",
    "X=train_df.drop(['fare_amount','pickup_longitude','pickup_latitude','dropoff_longitude','dropoff_latitude','Year','Month','Weekday'],axis=1)\n",
    "y=train_df['fare_amount']\n",
    "X_train,X_test,y_train,y_test=train_test_split(X,y,test_size=0.01,random_state=80)\n",
    "reg=lr.fit(X_train.values,y_train.values)\n",
    "reg.intercept_"
   ]
  },
  {
   "cell_type": "code",
   "execution_count": 29,
   "id": "84986de9",
   "metadata": {
    "execution": {
     "iopub.execute_input": "2022-03-26T02:26:36.141007Z",
     "iopub.status.busy": "2022-03-26T02:26:36.140318Z",
     "iopub.status.idle": "2022-03-26T02:26:36.142992Z",
     "shell.execute_reply": "2022-03-26T02:26:36.143497Z",
     "shell.execute_reply.started": "2022-03-26T02:22:01.254894Z"
    },
    "papermill": {
     "duration": 0.07432,
     "end_time": "2022-03-26T02:26:36.143660",
     "exception": false,
     "start_time": "2022-03-26T02:26:36.069340",
     "status": "completed"
    },
    "tags": []
   },
   "outputs": [
    {
     "name": "stdout",
     "output_type": "stream",
     "text": [
      "   passenger_count  Distance  hour\n",
      "0                1  0.640305    17\n",
      "1                1  5.249180    16\n",
      "2                2  0.863166     0\n",
      "3                1  1.738893     4\n",
      "4                1  1.241866     7\n"
     ]
    }
   ],
   "source": [
    "print(X.head())"
   ]
  },
  {
   "cell_type": "code",
   "execution_count": 30,
   "id": "6f900ea2",
   "metadata": {
    "execution": {
     "iopub.execute_input": "2022-03-26T02:26:36.274403Z",
     "iopub.status.busy": "2022-03-26T02:26:36.273699Z",
     "iopub.status.idle": "2022-03-26T02:26:36.290315Z",
     "shell.execute_reply": "2022-03-26T02:26:36.291891Z",
     "shell.execute_reply.started": "2022-03-26T02:22:01.269276Z"
    },
    "papermill": {
     "duration": 0.084764,
     "end_time": "2022-03-26T02:26:36.292290",
     "exception": false,
     "start_time": "2022-03-26T02:26:36.207526",
     "status": "completed"
    },
    "tags": []
   },
   "outputs": [
    {
     "name": "stdout",
     "output_type": "stream",
     "text": [
      "Coefficients: \n",
      " [0.02442728 3.70657377 0.01168176]\n",
      "Mean squared error: 4.44\n",
      "Coefficient of determination: 0.78\n"
     ]
    }
   ],
   "source": [
    "from sklearn.metrics import mean_squared_error\n",
    "from sklearn.metrics import r2_score\n",
    "y_pred = reg.predict(X_test.values)\n",
    "# The coefficients\n",
    "print(\"Coefficients: \\n\", reg.coef_)\n",
    "# The mean squared error\n",
    "print(\"Mean squared error: %.2f\" % mean_squared_error(y_test, y_pred,squared=False))\n",
    "# The coefficient of determination: 1 is perfect prediction\n",
    "print(\"Coefficient of determination: %.2f\" % r2_score(y_test, y_pred))"
   ]
  },
  {
   "cell_type": "code",
   "execution_count": 31,
   "id": "8a69ad0a",
   "metadata": {
    "execution": {
     "iopub.execute_input": "2022-03-26T02:26:36.486613Z",
     "iopub.status.busy": "2022-03-26T02:26:36.485953Z",
     "iopub.status.idle": "2022-03-26T02:26:36.789688Z",
     "shell.execute_reply": "2022-03-26T02:26:36.790627Z",
     "shell.execute_reply.started": "2022-03-26T02:22:01.284683Z"
    },
    "papermill": {
     "duration": 0.383772,
     "end_time": "2022-03-26T02:26:36.790909",
     "exception": false,
     "start_time": "2022-03-26T02:26:36.407137",
     "status": "completed"
    },
    "tags": []
   },
   "outputs": [],
   "source": [
    "test = pd.read_csv('/kaggle/input/new-york-city-taxi-fare-prediction/test.csv')\n",
    "train=test\n",
    "train = train[(train['pickup_longitude'] < -72)&(train['pickup_longitude'] > -75)]\n",
    "train = train[(train['pickup_latitude'] < 44)&(train['pickup_latitude'] > 37)]\n",
    "train = train[(train['dropoff_longitude'] < -72)&(train['dropoff_longitude'] > -75)]\n",
    "train = train[(train['dropoff_latitude'] > 37) & (train['dropoff_latitude'] < 44)]\n",
    "train = train[(train['passenger_count'] < 10)&(train['passenger_count'] > 0)]\n",
    "train[\"date_parsed\"] = pd.to_datetime(train[\"pickup_datetime\"])\n",
    "\n",
    "train[\"Year\"] = train[\"date_parsed\"].dt.year\n",
    "\n",
    "train[\"Month\"] = train[\"date_parsed\"].dt.month\n",
    "\n",
    "train[\"Weekday\"] = train[\"date_parsed\"].dt.weekday\n",
    "\n",
    "train[\"hour\"] = train[\"date_parsed\"].dt.hour\n",
    "\n",
    "train = train.drop(columns = [\"key\",\"pickup_datetime\", \"date_parsed\"])\n",
    "finding_distance(train)\n",
    "X=train.drop(['pickup_longitude','pickup_latitude','dropoff_longitude','dropoff_latitude','Year','Month','Weekday'],axis=1)\n",
    "y_pred_test= reg.predict(X.values)"
   ]
  },
  {
   "cell_type": "code",
   "execution_count": 32,
   "id": "a0d01be5",
   "metadata": {
    "execution": {
     "iopub.execute_input": "2022-03-26T02:26:36.980571Z",
     "iopub.status.busy": "2022-03-26T02:26:36.979890Z",
     "iopub.status.idle": "2022-03-26T02:26:36.989727Z",
     "shell.execute_reply": "2022-03-26T02:26:36.990212Z",
     "shell.execute_reply.started": "2022-03-26T02:22:01.648312Z"
    },
    "papermill": {
     "duration": 0.080823,
     "end_time": "2022-03-26T02:26:36.990394",
     "exception": false,
     "start_time": "2022-03-26T02:26:36.909571",
     "status": "completed"
    },
    "tags": []
   },
   "outputs": [
    {
     "data": {
      "text/html": [
       "<div>\n",
       "<style scoped>\n",
       "    .dataframe tbody tr th:only-of-type {\n",
       "        vertical-align: middle;\n",
       "    }\n",
       "\n",
       "    .dataframe tbody tr th {\n",
       "        vertical-align: top;\n",
       "    }\n",
       "\n",
       "    .dataframe thead th {\n",
       "        text-align: right;\n",
       "    }\n",
       "</style>\n",
       "<table border=\"1\" class=\"dataframe\">\n",
       "  <thead>\n",
       "    <tr style=\"text-align: right;\">\n",
       "      <th></th>\n",
       "      <th>passenger_count</th>\n",
       "      <th>hour</th>\n",
       "      <th>Distance</th>\n",
       "      <th>pre_fare</th>\n",
       "    </tr>\n",
       "  </thead>\n",
       "  <tbody>\n",
       "    <tr>\n",
       "      <th>0</th>\n",
       "      <td>1</td>\n",
       "      <td>13</td>\n",
       "      <td>1.443197</td>\n",
       "      <td>51.723967</td>\n",
       "    </tr>\n",
       "    <tr>\n",
       "      <th>1</th>\n",
       "      <td>1</td>\n",
       "      <td>13</td>\n",
       "      <td>1.506617</td>\n",
       "      <td>51.724708</td>\n",
       "    </tr>\n",
       "    <tr>\n",
       "      <th>2</th>\n",
       "      <td>1</td>\n",
       "      <td>11</td>\n",
       "      <td>0.384289</td>\n",
       "      <td>44.298450</td>\n",
       "    </tr>\n",
       "    <tr>\n",
       "      <th>3</th>\n",
       "      <td>1</td>\n",
       "      <td>21</td>\n",
       "      <td>1.218183</td>\n",
       "      <td>81.373929</td>\n",
       "    </tr>\n",
       "    <tr>\n",
       "      <th>4</th>\n",
       "      <td>1</td>\n",
       "      <td>21</td>\n",
       "      <td>3.346564</td>\n",
       "      <td>81.398792</td>\n",
       "    </tr>\n",
       "    <tr>\n",
       "      <th>...</th>\n",
       "      <td>...</td>\n",
       "      <td>...</td>\n",
       "      <td>...</td>\n",
       "      <td>...</td>\n",
       "    </tr>\n",
       "    <tr>\n",
       "      <th>9909</th>\n",
       "      <td>6</td>\n",
       "      <td>12</td>\n",
       "      <td>1.319961</td>\n",
       "      <td>48.138090</td>\n",
       "    </tr>\n",
       "    <tr>\n",
       "      <th>9910</th>\n",
       "      <td>6</td>\n",
       "      <td>17</td>\n",
       "      <td>2.031909</td>\n",
       "      <td>66.679276</td>\n",
       "    </tr>\n",
       "    <tr>\n",
       "      <th>9911</th>\n",
       "      <td>6</td>\n",
       "      <td>20</td>\n",
       "      <td>11.916967</td>\n",
       "      <td>77.914472</td>\n",
       "    </tr>\n",
       "    <tr>\n",
       "      <th>9912</th>\n",
       "      <td>6</td>\n",
       "      <td>1</td>\n",
       "      <td>5.182932</td>\n",
       "      <td>7.410905</td>\n",
       "    </tr>\n",
       "    <tr>\n",
       "      <th>9913</th>\n",
       "      <td>6</td>\n",
       "      <td>14</td>\n",
       "      <td>0.733523</td>\n",
       "      <td>55.544387</td>\n",
       "    </tr>\n",
       "  </tbody>\n",
       "</table>\n",
       "<p>9914 rows × 4 columns</p>\n",
       "</div>"
      ],
      "text/plain": [
       "      passenger_count  hour   Distance   pre_fare\n",
       "0                   1    13   1.443197  51.723967\n",
       "1                   1    13   1.506617  51.724708\n",
       "2                   1    11   0.384289  44.298450\n",
       "3                   1    21   1.218183  81.373929\n",
       "4                   1    21   3.346564  81.398792\n",
       "...               ...   ...        ...        ...\n",
       "9909                6    12   1.319961  48.138090\n",
       "9910                6    17   2.031909  66.679276\n",
       "9911                6    20  11.916967  77.914472\n",
       "9912                6     1   5.182932   7.410905\n",
       "9913                6    14   0.733523  55.544387\n",
       "\n",
       "[9914 rows x 4 columns]"
      ]
     },
     "execution_count": 32,
     "metadata": {},
     "output_type": "execute_result"
    }
   ],
   "source": [
    "X['pre_fare']=y_pred_test\n",
    "X"
   ]
  },
  {
   "cell_type": "markdown",
   "id": "42bfaf8c",
   "metadata": {
    "papermill": {
     "duration": 0.067463,
     "end_time": "2022-03-26T02:26:37.123780",
     "exception": false,
     "start_time": "2022-03-26T02:26:37.056317",
     "status": "completed"
    },
    "tags": []
   },
   "source": [
    "You cann see there are smallest number of taxis between 4-5 am. This might suggest an overall high fee during this period"
   ]
  }
 ],
 "metadata": {
  "kernelspec": {
   "display_name": "Python 3",
   "language": "python",
   "name": "python3"
  },
  "language_info": {
   "codemirror_mode": {
    "name": "ipython",
    "version": 3
   },
   "file_extension": ".py",
   "mimetype": "text/x-python",
   "name": "python",
   "nbconvert_exporter": "python",
   "pygments_lexer": "ipython3",
   "version": "3.7.12"
  },
  "papermill": {
   "default_parameters": {},
   "duration": 172.638917,
   "end_time": "2022-03-26T02:26:38.001341",
   "environment_variables": {},
   "exception": null,
   "input_path": "__notebook__.ipynb",
   "output_path": "__notebook__.ipynb",
   "parameters": {},
   "start_time": "2022-03-26T02:23:45.362424",
   "version": "2.3.3"
  }
 },
 "nbformat": 4,
 "nbformat_minor": 5
}
